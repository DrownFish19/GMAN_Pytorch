{
 "cells": [
  {
   "cell_type": "code",
   "execution_count": 2,
   "metadata": {},
   "outputs": [],
   "source": [
    "import numpy as np\n",
    "import torch\n",
    "import pandas as pd\n",
    "import matplotlib.pyplot as plt"
   ]
  },
  {
   "cell_type": "code",
   "execution_count": 49,
   "metadata": {},
   "outputs": [],
   "source": [
    "df = pd.read_hdf('./data/pems-bay.h5')"
   ]
  },
  {
   "cell_type": "code",
   "execution_count": 67,
   "metadata": {},
   "outputs": [
    {
     "data": {
      "text/plain": [
       "tensor([[6],\n",
       "        [6],\n",
       "        [6],\n",
       "        ...,\n",
       "        [4],\n",
       "        [4],\n",
       "        [4]])"
      ]
     },
     "execution_count": 67,
     "metadata": {},
     "output_type": "execute_result"
    }
   ],
   "source": [
    "Time = df.index\n",
    "dayofweek = torch.reshape(torch.tensor(time.weekday), (-1, 1))\n",
    "dayofweek"
   ]
  },
  {
   "cell_type": "code",
   "execution_count": 68,
   "metadata": {},
   "outputs": [
    {
     "data": {
      "text/plain": [
       "Int64Index([    0,     0,     0,     0,     0,     0,     0,     0,     0,\n",
       "                0,\n",
       "            ...\n",
       "            82800, 82800, 82800, 82800, 82800, 82800, 82800, 82800, 82800,\n",
       "            82800],\n",
       "           dtype='int64', length=52116)"
      ]
     },
     "execution_count": 68,
     "metadata": {},
     "output_type": "execute_result"
    }
   ],
   "source": [
    "Time.hour*3600"
   ]
  },
  {
   "cell_type": "code",
   "execution_count": 69,
   "metadata": {},
   "outputs": [
    {
     "data": {
      "text/plain": [
       "Int64Index([   0,  300,  600,  900, 1200, 1500, 1800, 2100, 2400, 2700,\n",
       "            ...\n",
       "             600,  900, 1200, 1500, 1800, 2100, 2400, 2700, 3000, 3300],\n",
       "           dtype='int64', length=52116)"
      ]
     },
     "execution_count": 69,
     "metadata": {},
     "output_type": "execute_result"
    }
   ],
   "source": [
    "Time.minute*60"
   ]
  },
  {
   "cell_type": "code",
   "execution_count": 70,
   "metadata": {},
   "outputs": [
    {
     "data": {
      "text/plain": [
       "Int64Index([0, 0, 0, 0, 0, 0, 0, 0, 0, 0,\n",
       "            ...\n",
       "            0, 0, 0, 0, 0, 0, 0, 0, 0, 0],\n",
       "           dtype='int64', length=52116)"
      ]
     },
     "execution_count": 70,
     "metadata": {},
     "output_type": "execute_result"
    }
   ],
   "source": [
    "Time.second"
   ]
  },
  {
   "cell_type": "code",
   "execution_count": 73,
   "metadata": {},
   "outputs": [
    {
     "data": {
      "text/plain": [
       "Int64Index([    0,   300,   600,   900,  1200,  1500,  1800,  2100,  2400,\n",
       "             2700,\n",
       "            ...\n",
       "            83400, 83700, 84000, 84300, 84600, 84900, 85200, 85500, 85800,\n",
       "            86100],\n",
       "           dtype='int64', length=52116)"
      ]
     },
     "execution_count": 73,
     "metadata": {},
     "output_type": "execute_result"
    }
   ],
   "source": [
    "(Time.hour*3600 + Time.minute*60 + Time.second)"
   ]
  },
  {
   "cell_type": "code",
   "execution_count": 75,
   "metadata": {},
   "outputs": [
    {
     "data": {
      "text/plain": [
       "Int64Index([  0,   1,   2,   3,   4,   5,   6,   7,   8,   9,\n",
       "            ...\n",
       "            278, 279, 280, 281, 282, 283, 284, 285, 286, 287],\n",
       "           dtype='int64', length=52116)"
      ]
     },
     "execution_count": 75,
     "metadata": {},
     "output_type": "execute_result"
    }
   ],
   "source": [
    "(Time.hour*3600 + Time.minute*60 + Time.second) // (5 * 60)"
   ]
  },
  {
   "cell_type": "code",
   "execution_count": 78,
   "metadata": {},
   "outputs": [
    {
     "data": {
      "text/plain": [
       "Int64Index([  0,   1,   2,   3,   4,   5,   6,   7,   8,   9,\n",
       "            ...\n",
       "            278, 279, 280, 281, 282, 283, 284, 285, 286, 287],\n",
       "           dtype='int64', length=52116)"
      ]
     },
     "execution_count": 78,
     "metadata": {},
     "output_type": "execute_result"
    }
   ],
   "source": [
    "((Time.hour*3600 + Time.minute*60 + Time.second) // (5 * 60)) % 288"
   ]
  },
  {
   "cell_type": "code",
   "execution_count": 4,
   "metadata": {},
   "outputs": [
    {
     "data": {
      "text/plain": [
       "tensor([[[[-7.6233e-02, -8.8365e-01, -1.0317e+00, -1.1276e+00,  1.2868e+00,\n",
       "            1.1127e+00],\n",
       "          [ 6.3230e-01,  2.5392e-01, -6.0475e-01, -1.9665e-01,  1.0340e+00,\n",
       "           -8.2376e-01],\n",
       "          [ 1.9011e+00,  1.1331e+00,  1.0515e+00, -1.6867e+00,  3.3064e-01,\n",
       "            9.1684e-01],\n",
       "          [-7.4991e-01, -6.3838e-01,  5.6323e-01,  1.7895e+00, -1.5497e+00,\n",
       "           -7.0637e-01],\n",
       "          [-7.2072e-01,  8.6393e-01, -1.4469e-01, -8.6005e-01, -9.2813e-01,\n",
       "            3.7626e-01]],\n",
       "\n",
       "         [[-1.7832e-01,  1.4728e+00, -1.1884e-01, -2.0235e+00,  6.6593e-02,\n",
       "           -8.6095e-02],\n",
       "          [ 1.1356e+00,  4.3733e-02,  3.7348e-02,  2.6103e-02, -1.6448e+00,\n",
       "           -6.8759e-01],\n",
       "          [ 7.3642e-01,  4.6662e-01,  3.3091e-01,  1.2012e+00,  5.4677e-01,\n",
       "            2.1741e-01],\n",
       "          [-1.3436e+00, -7.3607e-01,  8.5622e-01, -1.3827e+00,  1.3031e-01,\n",
       "            4.0376e-01],\n",
       "          [-2.0965e+00, -5.1334e-01, -8.6201e-01, -1.7804e-01,  4.2860e-01,\n",
       "            3.0835e-01]],\n",
       "\n",
       "         [[-3.7684e-02, -9.1457e-02, -7.9500e-01,  1.6965e+00, -8.3349e-02,\n",
       "           -4.0687e-01],\n",
       "          [-1.6005e+00,  8.9512e-01, -2.9012e-01, -1.8339e+00, -1.8441e-01,\n",
       "            8.0631e-02],\n",
       "          [ 7.6215e-01, -1.8607e+00,  2.0418e+00, -8.6373e-01,  1.5050e-01,\n",
       "            4.1726e-01],\n",
       "          [ 8.7052e-01, -1.9300e-01,  5.1744e-01,  1.6028e+00, -1.2586e-01,\n",
       "            2.0502e+00],\n",
       "          [-9.4557e-01,  8.2803e-01,  5.9859e-01, -5.7288e-01,  7.0638e-01,\n",
       "           -1.7289e+00]],\n",
       "\n",
       "         [[ 2.9963e+00, -1.1967e+00, -7.7262e-01,  9.4589e-01, -1.4934e+00,\n",
       "            5.7853e-01],\n",
       "          [-5.6831e-01,  8.3607e-01, -9.3663e-01, -1.1547e+00,  5.2690e-01,\n",
       "            3.2463e-01],\n",
       "          [ 1.9758e-01,  2.1592e-01, -8.5730e-01,  8.6352e-01, -3.4399e-01,\n",
       "           -5.6626e-01],\n",
       "          [-5.0890e-01,  1.4939e+00, -1.2834e-01,  9.7368e-02,  1.3480e+00,\n",
       "            1.4406e-01],\n",
       "          [-1.3247e+00,  6.5625e-01,  9.9840e-01, -9.2105e-01, -2.7193e-02,\n",
       "            1.9782e+00]],\n",
       "\n",
       "         [[-2.4159e+00, -2.4305e-01, -2.1558e+00, -1.0222e+00,  8.0707e-01,\n",
       "           -1.9130e+00],\n",
       "          [-1.1611e+00,  5.2349e-01,  8.1291e-01,  9.7229e-01, -1.9307e+00,\n",
       "            8.5653e-01],\n",
       "          [ 4.4247e-04, -1.3505e-01, -3.3920e-01, -4.7293e-01,  5.1776e-01,\n",
       "           -6.2471e-01],\n",
       "          [-4.0371e-01,  1.4298e+00,  3.4895e-01, -4.6066e-01, -1.4861e-01,\n",
       "            1.7184e+00],\n",
       "          [ 8.9185e-01, -9.9127e-01,  3.3514e-01, -3.3285e-01,  1.7749e+00,\n",
       "            9.3481e-02]],\n",
       "\n",
       "         [[ 1.5442e+00, -1.4680e+00, -6.8575e-02, -8.3551e-01,  7.5410e-01,\n",
       "            8.7587e-01],\n",
       "          [ 1.4033e+00, -6.3897e-01,  3.3572e-01,  1.1329e+00, -4.8256e-01,\n",
       "            2.7599e+00],\n",
       "          [ 2.1692e-01,  7.6113e-01, -6.6126e-01, -1.2498e-01, -8.3228e-02,\n",
       "           -2.0463e-01],\n",
       "          [ 2.8314e-01, -1.1523e+00, -3.5068e-01,  1.4668e-01,  1.5334e+00,\n",
       "           -6.7759e-01],\n",
       "          [-5.3035e-01,  2.4726e-01, -1.7728e+00,  1.8470e+00,  1.6992e+00,\n",
       "           -3.6086e-01]],\n",
       "\n",
       "         [[-6.8971e-01, -8.6881e-01, -3.7587e-01, -7.8891e-01,  5.2134e-01,\n",
       "            1.0128e+00],\n",
       "          [ 2.7387e-01, -1.4157e+00, -4.8696e-01, -5.1403e-01,  1.0448e+00,\n",
       "           -1.0667e+00],\n",
       "          [-1.5965e+00,  1.0570e+00, -2.0280e+00, -7.4216e-01,  5.1542e-01,\n",
       "            9.0781e-02],\n",
       "          [-5.0913e-01, -1.2287e+00, -2.1310e-01,  9.1472e-01, -6.4597e-01,\n",
       "           -7.4610e-01],\n",
       "          [-2.7685e-01,  6.0923e-01, -9.5537e-01, -8.8782e-01, -3.4188e-01,\n",
       "            2.0109e-01]],\n",
       "\n",
       "         [[ 6.3694e-01,  4.5967e-01, -1.1893e+00, -1.7428e-01,  9.6261e-01,\n",
       "           -3.8651e-02],\n",
       "          [-6.2426e-01,  6.4451e-01, -1.9571e-01, -2.3455e+00, -1.5905e+00,\n",
       "            2.1651e-01],\n",
       "          [-5.7004e-01, -2.8125e-01,  7.0591e-02, -8.0214e-01, -1.4282e+00,\n",
       "           -6.5262e-01],\n",
       "          [-1.5182e+00,  7.0149e-01,  1.2177e+00, -5.5833e-01, -3.7551e-01,\n",
       "            1.3417e-01],\n",
       "          [ 9.0738e-02, -1.6961e+00,  3.3491e-01,  5.8797e-02, -1.4776e+00,\n",
       "           -3.6139e-01]],\n",
       "\n",
       "         [[-4.2697e-01,  6.6261e-01, -2.5252e-01,  2.3102e-01,  1.8391e+00,\n",
       "           -5.2183e-01],\n",
       "          [-8.8135e-01, -2.2272e-01,  7.3451e-01,  1.3522e-02, -1.4903e+00,\n",
       "           -8.6946e-01],\n",
       "          [-3.8265e-01, -7.8140e-01,  2.8768e-01,  1.6442e+00,  1.1003e+00,\n",
       "           -2.5317e-01],\n",
       "          [-6.3159e-01, -2.8285e+00, -1.4849e+00, -2.0420e+00, -1.8717e+00,\n",
       "            2.0752e+00],\n",
       "          [-1.5037e-01, -1.6639e+00, -7.4812e-01,  9.6979e-01, -4.5171e-01,\n",
       "            3.0587e-01]],\n",
       "\n",
       "         [[-1.7173e+00,  6.4924e-01, -3.9241e-01,  8.1850e-01,  1.4347e+00,\n",
       "            9.2839e-01],\n",
       "          [ 1.4468e-01,  6.5390e-01, -3.3037e+00, -2.3643e+00,  1.8950e+00,\n",
       "            1.8417e+00],\n",
       "          [-1.2622e+00, -3.5976e-03, -1.6696e+00,  3.2661e-01, -1.5374e-01,\n",
       "            3.9006e-01],\n",
       "          [ 1.7926e-01,  1.8474e+00, -2.1268e-01,  1.3875e+00,  1.6817e+00,\n",
       "            1.5389e-01],\n",
       "          [ 1.1571e-01, -1.8156e+00, -1.9109e+00,  3.5653e-01,  1.5498e+00,\n",
       "            8.7705e-01]],\n",
       "\n",
       "         [[-8.1807e-01, -2.0538e-01, -4.9920e-01, -1.2911e+00,  3.3317e-01,\n",
       "            1.8631e+00],\n",
       "          [-2.7580e-01, -6.5120e-01, -1.0292e+00, -1.4106e+00, -7.8310e-02,\n",
       "            7.1602e-02],\n",
       "          [-2.6332e-01, -3.2631e-01,  1.5225e-01,  7.6973e-01,  2.1953e-01,\n",
       "           -1.2650e+00],\n",
       "          [ 1.0202e+00,  3.7763e-02,  7.5476e-01, -8.6220e-01, -1.2384e+00,\n",
       "            1.3877e+00],\n",
       "          [-7.7231e-02, -5.1521e-01, -4.2867e-01, -3.3672e-01, -1.0438e+00,\n",
       "            3.6055e-02]],\n",
       "\n",
       "         [[ 7.5893e-01, -3.0517e-01,  2.3871e-01, -3.7696e-01,  1.5593e+00,\n",
       "            1.5828e+00],\n",
       "          [-2.7859e+00,  4.3484e-01, -1.2182e+00, -2.9145e-01,  1.5777e-01,\n",
       "            4.0931e-01],\n",
       "          [ 1.7580e+00,  1.1870e+00, -1.5007e+00, -5.9965e-02,  5.5545e-01,\n",
       "           -4.8432e-01],\n",
       "          [ 1.9390e-01,  9.3907e-01,  4.1248e-01,  9.5873e-01,  5.3675e-02,\n",
       "            1.2014e+00],\n",
       "          [ 1.9455e-01,  1.3972e+00, -7.2357e-01, -5.5133e-01, -4.6267e-01,\n",
       "            2.1566e-01]]]])"
      ]
     },
     "execution_count": 4,
     "metadata": {},
     "output_type": "execute_result"
    }
   ],
   "source": [
    "A = torch.randn(1,12,5,2*3)\n",
    "A"
   ]
  },
  {
   "cell_type": "code",
   "execution_count": 11,
   "metadata": {},
   "outputs": [
    {
     "data": {
      "text/plain": [
       "3"
      ]
     },
     "execution_count": 11,
     "metadata": {},
     "output_type": "execute_result"
    }
   ],
   "source": [
    "len(torch.split(A, 2,-1))"
   ]
  },
  {
   "cell_type": "code",
   "execution_count": 4,
   "metadata": {},
   "outputs": [
    {
     "data": {
      "text/plain": [
       "array([2.16055167, 1.86474014, 1.76764005, 1.72375862, 1.69016481,\n",
       "       1.67168452, 1.65541702, 1.62908561, 1.62279442, 1.61452959,\n",
       "       1.57179087, 1.57632072, 1.57147254, 1.55751261, 1.54704229,\n",
       "       1.55917267, 1.53760414, 1.52817653, 1.51269477, 1.51285005,\n",
       "       1.50326767, 1.48274247, 1.49998735, 1.50014946, 1.49985767,\n",
       "       1.47351807, 1.47145767, 1.48290575, 1.45968177])"
      ]
     },
     "execution_count": 4,
     "metadata": {},
     "output_type": "execute_result"
    }
   ],
   "source": [
    "loss = np.load('./log.npz.npy')\n",
    "loss"
   ]
  },
  {
   "cell_type": "code",
   "execution_count": 13,
   "metadata": {},
   "outputs": [
    {
     "data": {
      "image/png": "[encoded data removed]",
      "text/plain": [
       "<Figure size 720x504 with 1 Axes>"
      ]
     },
     "metadata": {
      "needs_background": "light"
     },
     "output_type": "display_data"
    }
   ],
   "source": [
    "plt.figure(figsize=(10,7))\n",
    "plt.plot(loss,label=\"train loss\")\n",
    "plt.legend()\n",
    "plt.title('Train_Loss_PeMS')\n",
    "plt.savefig('./figure/train_loss.png')"
   ]
  },
  {
   "cell_type": "code",
   "execution_count": null,
   "metadata": {},
   "outputs": [],
   "source": []
  }
 ],
 "metadata": {
  "kernelspec": {
   "display_name": "Python pytorch",
   "language": "python",
   "name": "pytorch"
  },
  "language_info": {
   "codemirror_mode": {
    "name": "ipython",
    "version": 3
   },
   "file_extension": ".py",
   "mimetype": "text/x-python",
   "name": "python",
   "nbconvert_exporter": "python",
   "pygments_lexer": "ipython3",
   "version": "3.8.8"
  },
  "toc": {
   "base_numbering": 1,
   "nav_menu": {},
   "number_sections": true,
   "sideBar": true,
   "skip_h1_title": false,
   "title_cell": "Table of Contents",
   "title_sidebar": "Contents",
   "toc_cell": false,
   "toc_position": {},
   "toc_section_display": true,
   "toc_window_display": false
  }
 },
 "nbformat": 4,
 "nbformat_minor": 4
}
